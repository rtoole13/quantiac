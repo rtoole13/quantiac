{
 "cells": [
  {
   "cell_type": "code",
   "execution_count": 111,
   "metadata": {},
   "outputs": [],
   "source": [
    "import quantiacsToolbox as qt\n",
    "import pandas as pd\n",
    "\n",
    "import utils"
   ]
  },
  {
   "cell_type": "code",
   "execution_count": 112,
   "metadata": {},
   "outputs": [
    {
     "name": "stdout",
     "output_type": "stream",
     "text": [
      "Help on module utils:\n",
      "\n",
      "NAME\n",
      "    utils\n",
      "\n",
      "FUNCTIONS\n",
      "    make_ticker_dict(source='tickerData', data_subset=None)\n",
      "    \n",
      "    unzip_ticker_data(source='tickerData.zip', destination='.')\n",
      "\n",
      "DATA\n",
      "    FUTURES_LIST = ['F_AD', 'F_BO', 'F_BP', 'F_C', 'F_CC', 'F_CD', 'F_CL',...\n",
      "    STOCKS_LIST = ['AAPL', 'MMM', 'ABT', 'ABBV', 'ACN', 'ALL', 'MO', 'AMZN...\n",
      "\n",
      "FILE\n",
      "    c:\\projects\\quantiac\\utils.py\n",
      "\n",
      "\n"
     ]
    }
   ],
   "source": [
    "help(utils)"
   ]
  },
  {
   "cell_type": "code",
   "execution_count": 109,
   "metadata": {},
   "outputs": [
    {
     "data": {
      "text/plain": [
       "(486, 88)"
      ]
     },
     "execution_count": 109,
     "metadata": {},
     "output_type": "execute_result"
    }
   ],
   "source": [
    "stocks = utils.STOCKS_LIST\n",
    "futures = utils.FUTURES_LIST\n",
    "len(stocks), len(futures)"
   ]
  },
  {
   "cell_type": "code",
   "execution_count": 110,
   "metadata": {},
   "outputs": [
    {
     "name": "stdout",
     "output_type": "stream",
     "text": [
      "Help on module utils:\n",
      "\n",
      "NAME\n",
      "    utils\n",
      "\n",
      "FUNCTIONS\n",
      "    make_ticker_dict(source='tickerData', data_subset=None)\n",
      "    \n",
      "    unzip_ticker_data(source='tickerData.zip', destination='.')\n",
      "\n",
      "DATA\n",
      "    FUTURES_LIST = ['F_AD', 'F_BO', 'F_BP', 'F_C', 'F_CC', 'F_CD', 'F_CL',...\n",
      "    STOCKS_LIST = ['AAPL', 'MMM', 'ABT', 'ABBV', 'ACN', 'ALL', 'MO', 'AMZN...\n",
      "\n",
      "FILE\n",
      "    c:\\projects\\quantiac\\utils.py\n",
      "\n",
      "\n"
     ]
    }
   ],
   "source": []
  }
 ],
 "metadata": {
  "kernelspec": {
   "display_name": "Python 3",
   "language": "python",
   "name": "python3"
  },
  "language_info": {
   "codemirror_mode": {
    "name": "ipython",
    "version": 3
   },
   "file_extension": ".py",
   "mimetype": "text/x-python",
   "name": "python",
   "nbconvert_exporter": "python",
   "pygments_lexer": "ipython3",
   "version": "3.6.5"
  }
 },
 "nbformat": 4,
 "nbformat_minor": 2
}
